{
 "cells": [
  {
   "cell_type": "markdown",
   "source": [
    "Завдання 4.1. \n",
    "\n",
    "Розв’язати систему рівнянь (табл. 4.1) з точністю 0.001 методом простої ітерації, визначивши спочатку необхідну для заданої точності кількість ітерацій. Перевірити умови збіжності методу."
   ],
   "metadata": {
    "collapsed": false
   },
   "id": "c0031ccd68235606"
  },
  {
   "cell_type": "code",
   "outputs": [
    {
     "ename": "SyntaxError",
     "evalue": "incomplete input (2493452293.py, line 29)",
     "output_type": "error",
     "traceback": [
      "\u001B[1;36m  Cell \u001B[1;32mIn[1], line 29\u001B[1;36m\u001B[0m\n\u001B[1;33m    \u001B[0m\n\u001B[1;37m    ^\u001B[0m\n\u001B[1;31mSyntaxError\u001B[0m\u001B[1;31m:\u001B[0m incomplete input\n"
     ]
    }
   ],
   "source": [
    "import numpy as np\n",
    "import math\n",
    "\n",
    "\n",
    "def matrix_first_norm(matrix):\n",
    "    return np.linalg.norm(matrix, ord=1)\n",
    "\n",
    "def is_convergent(matrix):\n",
    "    if matrix_first_norm(matrix) < 1:\n",
    "        return True\n",
    "    return False\n",
    "\n",
    "# def find_iterations_count(alpha, beta, init_approx, precision):\n",
    "#     a = math.log10(precision) + math.log10(abs(1-matrix_first_norm(init_approx))) - math.log(matrix_first_norm(beta))\n",
    "#     b = math.log10(matrix_first_norm(alpha))\n",
    "#     result = int((a / b) - 1)\n",
    "#     return result\n",
    "\n",
    "def find_iterations_count(alpha, beta, init_approx, precision):\n",
    "    a = math.log10((precision * abs(1 - matrix_first_norm(init_approx))) / matrix_first_norm(beta))\n",
    "    b = math.log10(matrix_first_norm(alpha))\n",
    "    return int(a / b - 1)\n",
    "\n",
    "\n",
    "def simple_iterations_method(alpha, beta, init_approx, x_prev, x_next, precision):\n",
    "    \n",
    "    \n",
    "    \n",
    "    "
   ],
   "metadata": {
    "collapsed": false,
    "ExecuteTime": {
     "end_time": "2024-03-26T18:52:55.883745Z",
     "start_time": "2024-03-26T18:52:55.870263Z"
    }
   },
   "id": "ee1352a819ab3097",
   "execution_count": 1
  },
  {
   "cell_type": "code",
   "outputs": [],
   "source": [
    "e = 10**-3\n",
    "\n",
    "alpha_1 = np.array([\n",
    "    [0.32, -0.18,  0.02,  0.21],\n",
    "    [0.16,  0.12, -0.14,  0.27],\n",
    "    [0.37,  0.27, -0.02, -0.24],\n",
    "    [0.12,  0.21, -0.18,  0.25]\n",
    "])\n",
    "\n",
    "beta_1 = np.array([\n",
    "     1.83,\n",
    "    -0.65,\n",
    "     2.23,\n",
    "    -1.13\n",
    "])\n",
    "\n",
    "\n",
    "\n",
    "\n",
    "\n",
    "\n",
    "\n",
    "\n",
    "\n",
    "\n",
    "\n",
    "\n",
    "\n",
    "\n",
    "\n",
    "\n",
    "\n",
    "\n",
    "\n",
    "\n",
    "\n",
    "\n",
    "\n",
    "\n"
   ],
   "metadata": {
    "collapsed": false,
    "ExecuteTime": {
     "end_time": "2024-03-26T18:52:55.886747Z",
     "start_time": "2024-03-26T18:52:55.885747Z"
    }
   },
   "id": "d1fd25954298cafc"
  },
  {
   "cell_type": "code",
   "outputs": [],
   "source": [
    "# testing our functions\n",
    "\n",
    "e = 10**-3\n",
    "\n",
    "alpha_1 = np.array([\n",
    "    [0.32, -0.18,  0.02,  0.21],\n",
    "    [0.16,  0.12, -0.14,  0.27],\n",
    "    [0.37,  0.27, -0.02, -0.24],\n",
    "    [0.12,  0.21, -0.18,  0.25] \n",
    "])\n",
    "\n",
    "beta_1 = np.array([\n",
    "     1.83,\n",
    "    -0.65,\n",
    "     2.23,\n",
    "    -1.13 \n",
    "])\n",
    "\n",
    "init_appr = np.array([\n",
    "     0.01,\n",
    "     0.02,\n",
    "     0.03,\n",
    "     0.04 \n",
    "])\n",
    "\n",
    "# print(is_convergent(alpha_1))\n",
    "# print(find_iterations_count(alpha_1, beta_1, beta_1, e))\n",
    "\n",
    "\n",
    "\n",
    "alpha_2 = np.array([\n",
    "    [0.01, 0.15,  -0.26],\n",
    "    [-0.02,  0.32, 0.21],\n",
    "    [-0.07,  -0.04, 0.29],\n",
    "])\n",
    "beta_2 = np.array([\n",
    "     0,\n",
    "    0.41,\n",
    "    -0.13,\n",
    "\n",
    "])\n",
    "\n",
    "\n",
    "print(is_convergent(alpha_2))\n",
    "\n",
    "print(matrix_first_norm(alpha_2))\n",
    "print(matrix_first_norm(beta_2))\n",
    "print(find_iterations_count(alpha_2, beta_2, beta_2, 10**-4))\n"
   ],
   "metadata": {
    "collapsed": false,
    "ExecuteTime": {
     "start_time": "2024-03-26T18:52:55.887746Z"
    }
   },
   "id": "e13884b0999b677f",
   "execution_count": null
  }
 ],
 "metadata": {
  "kernelspec": {
   "display_name": "Python 3",
   "language": "python",
   "name": "python3"
  },
  "language_info": {
   "codemirror_mode": {
    "name": "ipython",
    "version": 2
   },
   "file_extension": ".py",
   "mimetype": "text/x-python",
   "name": "python",
   "nbconvert_exporter": "python",
   "pygments_lexer": "ipython2",
   "version": "2.7.6"
  }
 },
 "nbformat": 4,
 "nbformat_minor": 5
}
