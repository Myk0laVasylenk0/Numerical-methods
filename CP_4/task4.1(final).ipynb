{
 "cells": [
  {
   "cell_type": "markdown",
   "id": "4c864cdec6fafb68",
   "metadata": {
    "collapsed": false
   },
   "source": [
    "Завдання 4.1. \n",
    "\n",
    "Розв’язати систему рівнянь (табл. 4.1) з точністю 0.001 методом простої ітерації, визначивши спочатку необхідну для заданої точності кількість ітерацій. Перевірити умови збіжності методу."
   ]
  },
  {
   "cell_type": "code",
   "execution_count": 187,
   "id": "cfb69bd1c0b308be",
   "metadata": {
    "collapsed": false,
    "ExecuteTime": {
     "end_time": "2024-03-27T07:32:17.558504Z",
     "start_time": "2024-03-27T07:32:17.550519Z"
    }
   },
   "outputs": [],
   "source": [
    "import numpy as np\n",
    "import math\n",
    "\n",
    "\n",
    "def matrix_first_norm(matrix):\n",
    "    return np.linalg.norm(matrix, ord=1)\n",
    "\n",
    "\n",
    "def is_convergent(matrix):\n",
    "    if matrix_first_norm(matrix) < 1:\n",
    "        return True\n",
    "    return False\n",
    "\n",
    "\n",
    "def find_iterations_count(alpha, beta, init_approx, precision):\n",
    "    a = math.log10((precision * abs(1 - matrix_first_norm(init_approx))) / matrix_first_norm(beta))\n",
    "    b = math.log10(matrix_first_norm(alpha))\n",
    "    return int(a / b - 1)\n",
    "\n",
    "\n",
    "def simple_iterations_method(alpha, beta, init_approx, precision):\n",
    "    x_curr = init_approx\n",
    "    x_prev = np.zeros(np.shape(x_curr)[0])\n",
    "    x_next = np.zeros(np.shape(x_curr)[0])\n",
    "    curr_precison = (matrix_first_norm(x_next + (-1 * x_curr)))\n",
    "    curr_iter = 0\n",
    "    while curr_precison > precision:\n",
    "        x_next = np.add(np.dot(alpha, x_curr), beta)\n",
    "        x_prev = x_curr\n",
    "\n",
    "        curr_precison = (matrix_first_norm(x_next + (-1 * x_curr)))\n",
    "\n",
    "        x_curr = x_next\n",
    "        curr_iter += 1\n",
    "\n",
    "    return np.vstack((x_curr))"
   ]
  },
  {
   "cell_type": "code",
   "execution_count": 188,
   "id": "bb5b4ca7dc0c7a4f",
   "metadata": {
    "collapsed": false,
    "ExecuteTime": {
     "end_time": "2024-03-27T07:32:17.573608Z",
     "start_time": "2024-03-27T07:32:17.561526Z"
    }
   },
   "outputs": [
    {
     "name": "stdout",
     "output_type": "stream",
     "text": [
      "Simple iterations method (variant 3)\n",
      "\n",
      "is our method convergent: True\n",
      "\n",
      "theoretical count of iterations to find roots with 0.0001 accuracy: 307\n",
      "(!note that theoretical value usually greater than actual)\n",
      "\n",
      "vector of roots:\n",
      "[[ 2.47307107]\n",
      " [-1.51054306]\n",
      " [ 3.22665492]\n",
      " [-2.30831413]]\n",
      "\n",
      "\n",
      "0.97\n"
     ]
    }
   ],
   "source": [
    "e = 0.0001\n",
    "\n",
    "alpha_1 = np.array([\n",
    "    [0.32, -0.18,  0.02,  0.21],\n",
    "    [0.16,  0.12, -0.14,  0.27],\n",
    "    [0.37,  0.27, -0.02, -0.24],\n",
    "    [0.12,  0.21, -0.18,  0.25]\n",
    "])\n",
    "\n",
    "beta_1 = np.array([\n",
    "     1.83,\n",
    "    -0.65,\n",
    "     2.23,\n",
    "    -1.13\n",
    "])\n",
    "print(\"Simple iterations method (variant 3)\")\n",
    "print(\"\")\n",
    "print(f\"is our method convergent: {is_convergent(alpha_1)}\")\n",
    "print(\"\")\n",
    "print(f\"theoretical count of iterations to find roots with {e} accuracy: {find_iterations_count(alpha_1, beta_1, beta_1, e)}\")\n",
    "print(\"(!note that theoretical value usually greater than actual)\")\n",
    "print(\"\")\n",
    "print(\"vector of roots:\")\n",
    "print(simple_iterations_method(alpha_1, beta_1, beta_1, e))\n",
    "print(\"\\n\")\n",
    "print(matrix_first_norm(alpha_1))"
   ]
  },
  {
   "cell_type": "code",
   "execution_count": 189,
   "id": "e775c6a684457641",
   "metadata": {
    "collapsed": false,
    "ExecuteTime": {
     "end_time": "2024-03-27T07:32:17.585816Z",
     "start_time": "2024-03-27T07:32:17.575115Z"
    }
   },
   "outputs": [
    {
     "name": "stdout",
     "output_type": "stream",
     "text": [
      "Simple iterations method (variant 16)\n",
      "\n",
      "is our method convergent: True\n",
      "\n",
      "theoretical count of iterations to find roots with 0.0001 accuracy: 61 \n",
      "(!note that theoretical value usually greater than actual)\n",
      "\n",
      "vector of roots:\n",
      "[[-1.7531896 ]\n",
      " [-0.83666516]\n",
      " [ 0.56900759]\n",
      " [ 0.45621915]]\n",
      "\n",
      "\n",
      "0.86\n"
     ]
    }
   ],
   "source": [
    "alpha_2 = np.array([\n",
    "    [0.14,  0.32,  0.18,  0.17],\n",
    "    [0.12, -0.14,  0.08,  0.09],\n",
    "    [0.16,  0.24,  0.00, -0.35],\n",
    "    [0.23, -0.08,  0.05,  0.25]\n",
    "])\n",
    "\n",
    "beta_2 = np.array([\n",
    "    -1.42,\n",
    "    -0.83,\n",
    "     1.21,\n",
    "     0.65\n",
    "])\n",
    "print(\"Simple iterations method (variant 16)\")\n",
    "print(\"\")\n",
    "print(f\"is our method convergent: {is_convergent(alpha_2)}\")\n",
    "print(\"\")\n",
    "print(f\"theoretical count of iterations to find roots with {e} accuracy: {find_iterations_count(alpha_2, beta_2, beta_2, e)} \")\n",
    "print(\"(!note that theoretical value usually greater than actual)\")\n",
    "print(\"\")\n",
    "print(\"vector of roots:\")\n",
    "print(simple_iterations_method(alpha_2, beta_2, beta_2, e))\n",
    "\n",
    "print(\"\\n\")\n",
    "print(matrix_first_norm(alpha_2))"
   ]
  },
  {
   "cell_type": "code",
   "execution_count": 190,
   "id": "3fb41c6e7a2cb899",
   "metadata": {
    "collapsed": false,
    "ExecuteTime": {
     "end_time": "2024-03-27T07:32:17.601864Z",
     "start_time": "2024-03-27T07:32:17.587831Z"
    }
   },
   "outputs": [
    {
     "name": "stdout",
     "output_type": "stream",
     "text": [
      "Simple iterations method (variant 24)\n",
      "\n",
      "is our method convergent: True\n",
      "\n",
      "theoretical count of iterations to find roots with 0.0001 accuracy: 88 \n",
      "(!note that theoretical value usually greater than actual)\n",
      "\n",
      "vector of roots:\n",
      "[[-0.01797675]\n",
      " [-3.62121521]\n",
      " [-1.23226214]\n",
      " [ 1.08299958]]\n",
      "\n",
      "\n",
      "0.9000000000000001\n"
     ]
    }
   ],
   "source": [
    "alpha_3 = np.array([\n",
    "    [0.03, -0.05,  0.22, -0.33],\n",
    "    [0.22,  0.55, -0.08,  0.07],\n",
    "    [0.33,  0.13, -0.08, -0.05],\n",
    "    [0.08,  0.17,  0.29,  0.33]\n",
    "])\n",
    "\n",
    "beta_3 = np.array([\n",
    "     0.43,\n",
    "    -1.80,\n",
    "    -0.80,\n",
    "     1.70\n",
    "])\n",
    "\n",
    "print(\"Simple iterations method (variant 24)\")\n",
    "print(\"\")\n",
    "print(f\"is our method convergent: {is_convergent(alpha_3)}\")\n",
    "print(\"\")\n",
    "print(f\"theoretical count of iterations to find roots with {e} accuracy: {find_iterations_count(alpha_3, beta_3, beta_3, e)} \")\n",
    "print(\"(!note that theoretical value usually greater than actual)\")\n",
    "print(\"\")\n",
    "print(\"vector of roots:\")\n",
    "print(simple_iterations_method(alpha_3, beta_3, beta_3, e))\n",
    "print(\"\\n\")\n",
    "print(matrix_first_norm(alpha_3))"
   ]
  }
 ],
 "metadata": {
  "kernelspec": {
   "display_name": "Python 3 (ipykernel)",
   "language": "python",
   "name": "python3"
  },
  "language_info": {
   "codemirror_mode": {
    "name": "ipython",
    "version": 3
   },
   "file_extension": ".py",
   "mimetype": "text/x-python",
   "name": "python",
   "nbconvert_exporter": "python",
   "pygments_lexer": "ipython3",
   "version": "3.12.0"
  }
 },
 "nbformat": 4,
 "nbformat_minor": 5
}
